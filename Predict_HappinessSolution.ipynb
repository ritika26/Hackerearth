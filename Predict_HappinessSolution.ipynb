{
 "cells": [
  {
   "cell_type": "code",
   "execution_count": 341,
   "metadata": {},
   "outputs": [
    {
     "name": "stdout",
     "output_type": "stream",
     "text": [
      "The autoreload extension is already loaded. To reload it, use:\n",
      "  %reload_ext autoreload\n"
     ]
    }
   ],
   "source": [
    "%load_ext autoreload\n",
    "%autoreload 2\n",
    "%matplotlib inline"
   ]
  },
  {
   "cell_type": "code",
   "execution_count": 342,
   "metadata": {},
   "outputs": [],
   "source": [
    "from fastai.imports import *\n",
    "from fastai.structured import *\n",
    "\n",
    "from pandas_summary import DataFrameSummary\n",
    "from sklearn.ensemble import RandomForestRegressor, RandomForestClassifier\n",
    "from IPython.display import display\n",
    "\n",
    "from sklearn import metrics"
   ]
  },
  {
   "cell_type": "code",
   "execution_count": 343,
   "metadata": {},
   "outputs": [],
   "source": [
    "import numpy as np\n",
    "import pandas as pd\n",
    "from nltk.corpus import stopwords\n",
    "from nltk.stem import PorterStemmer\n",
    "from sklearn.ensemble import GradientBoostingClassifier\n",
    "from sklearn.naive_bayes import GaussianNB\n",
    "from sklearn.preprocessing import LabelEncoder\n",
    "import re\n",
    "from sklearn.feature_extraction.text import CountVectorizer, TfidfVectorizer\n",
    "from sklearn.model_selection import cross_val_score\n",
    "from sklearn.metrics import accuracy_score, make_scorer"
   ]
  },
  {
   "cell_type": "code",
   "execution_count": 344,
   "metadata": {},
   "outputs": [],
   "source": [
    "\n",
    "import matplotlib.pyplot as plt\n",
    "from sklearn.model_selection import KFold"
   ]
  },
  {
   "cell_type": "code",
   "execution_count": 345,
   "metadata": {},
   "outputs": [],
   "source": [
    "PATH = \"data/Predict_happiness/\""
   ]
  },
  {
   "cell_type": "code",
   "execution_count": 346,
   "metadata": {},
   "outputs": [],
   "source": [
    "def get_combined():\n",
    "    df_train = pd.read_csv(f'{PATH}train.csv', low_memory=False)\n",
    "    df_test=pd.read_csv(f'{PATH}test.csv', low_memory=False)\n",
    "    df_test['Is_Response'] = np.nan\n",
    "    combined= df_train.append(df_test)\n",
    "    combined.reset_index(inplace=True)\n",
    "    combined.drop(['index','User_ID'],inplace=True,axis=1)\n",
    "    return combined"
   ]
  },
  {
   "cell_type": "code",
   "execution_count": 347,
   "metadata": {},
   "outputs": [],
   "source": [
    "combined_df= get_combined()"
   ]
  },
  {
   "cell_type": "code",
   "execution_count": 348,
   "metadata": {},
   "outputs": [
    {
     "name": "stdout",
     "output_type": "stream",
     "text": [
      "(68336, 4)\n"
     ]
    }
   ],
   "source": [
    "print(combined_df.shape)"
   ]
  },
  {
   "cell_type": "code",
   "execution_count": 349,
   "metadata": {},
   "outputs": [
    {
     "name": "stdout",
     "output_type": "stream",
     "text": [
      "<class 'pandas.core.frame.DataFrame'>\n",
      "RangeIndex: 68336 entries, 0 to 68335\n",
      "Data columns (total 4 columns):\n",
      "Description     68336 non-null object\n",
      "Browser_Used    68336 non-null object\n",
      "Device_Used     68336 non-null object\n",
      "Is_Response     38932 non-null object\n",
      "dtypes: object(4)\n",
      "memory usage: 2.1+ MB\n",
      "None\n"
     ]
    }
   ],
   "source": [
    "print(combined_df.info())"
   ]
  },
  {
   "cell_type": "code",
   "execution_count": 350,
   "metadata": {},
   "outputs": [
    {
     "name": "stdout",
     "output_type": "stream",
     "text": [
      "Description     object\n",
      "Browser_Used    object\n",
      "Device_Used     object\n",
      "Is_Response     object\n",
      "dtype: object\n"
     ]
    }
   ],
   "source": [
    "print(combined_df.dtypes)"
   ]
  },
  {
   "cell_type": "code",
   "execution_count": 351,
   "metadata": {},
   "outputs": [],
   "source": [
    "combined_df_copy=combined_df"
   ]
  },
  {
   "cell_type": "code",
   "execution_count": 352,
   "metadata": {},
   "outputs": [
    {
     "data": {
      "text/plain": [
       "(68336, 4)"
      ]
     },
     "execution_count": 352,
     "metadata": {},
     "output_type": "execute_result"
    }
   ],
   "source": [
    "combined_df_copy.shape"
   ]
  },
  {
   "cell_type": "code",
   "execution_count": 355,
   "metadata": {},
   "outputs": [
    {
     "data": {
      "text/plain": [
       "Mozilla_FireFox      25994\n",
       "Internet_Explorer    16161\n",
       "Edge                 12437\n",
       "Google_Chrome        12406\n",
       "Safari                 670\n",
       "Opera                  668\n",
       "Name: Browser_Used, dtype: int64"
      ]
     },
     "execution_count": 355,
     "metadata": {},
     "output_type": "execute_result"
    }
   ],
   "source": [
    "combined_df['Browser_Used'].value_counts()"
   ]
  },
  {
   "cell_type": "code",
   "execution_count": 354,
   "metadata": {},
   "outputs": [],
   "source": [
    "def clean_title(raw):\n",
    "    if ('Chrome' in raw) or ('Google Chrome' in raw):\n",
    "        return 'Google_Chrome'\n",
    "    elif ('InternetExplorer' in raw) or ('IE' in raw) or ('Internet Explorer' in raw):\n",
    "        return 'Internet_Explorer'\n",
    "    elif ('Mozilla' in raw) or ('Firefox' in raw) or ('Mozilla Firefox' in raw):\n",
    "        return 'Mozilla_FireFox'\n",
    "    elif 'Edge' in raw:\n",
    "        return 'Edge'\n",
    "    elif 'Opera' in raw:\n",
    "        return 'Opera'\n",
    "    elif 'Safari' in raw :\n",
    "        return 'Safari'\n",
    "    else :\n",
    "        return raw\n",
    "    \n",
    "combined_df['Browser_Used'] = combined_df.Browser_Used.apply(clean_title)"
   ]
  },
  {
   "cell_type": "code",
   "execution_count": 356,
   "metadata": {},
   "outputs": [],
   "source": [
    "targets=combined_df['Is_Response'].map({'not happy':0,'happy':1})"
   ]
  },
  {
   "cell_type": "code",
   "execution_count": 357,
   "metadata": {},
   "outputs": [],
   "source": [
    "combined_df.drop(['Description','Is_Response'],axis=1,inplace=True)"
   ]
  },
  {
   "cell_type": "code",
   "execution_count": 358,
   "metadata": {},
   "outputs": [
    {
     "data": {
      "text/html": [
       "<div>\n",
       "<style scoped>\n",
       "    .dataframe tbody tr th:only-of-type {\n",
       "        vertical-align: middle;\n",
       "    }\n",
       "\n",
       "    .dataframe tbody tr th {\n",
       "        vertical-align: top;\n",
       "    }\n",
       "\n",
       "    .dataframe thead th {\n",
       "        text-align: right;\n",
       "    }\n",
       "</style>\n",
       "<table border=\"1\" class=\"dataframe\">\n",
       "  <thead>\n",
       "    <tr style=\"text-align: right;\">\n",
       "      <th></th>\n",
       "      <th>Browser_Used</th>\n",
       "      <th>Device_Used</th>\n",
       "    </tr>\n",
       "  </thead>\n",
       "  <tbody>\n",
       "    <tr>\n",
       "      <th>0</th>\n",
       "      <td>Edge</td>\n",
       "      <td>Mobile</td>\n",
       "    </tr>\n",
       "    <tr>\n",
       "      <th>1</th>\n",
       "      <td>Internet_Explorer</td>\n",
       "      <td>Mobile</td>\n",
       "    </tr>\n",
       "    <tr>\n",
       "      <th>2</th>\n",
       "      <td>Mozilla_FireFox</td>\n",
       "      <td>Tablet</td>\n",
       "    </tr>\n",
       "    <tr>\n",
       "      <th>3</th>\n",
       "      <td>Internet_Explorer</td>\n",
       "      <td>Desktop</td>\n",
       "    </tr>\n",
       "    <tr>\n",
       "      <th>4</th>\n",
       "      <td>Edge</td>\n",
       "      <td>Tablet</td>\n",
       "    </tr>\n",
       "  </tbody>\n",
       "</table>\n",
       "</div>"
      ],
      "text/plain": [
       "        Browser_Used Device_Used\n",
       "0               Edge      Mobile\n",
       "1  Internet_Explorer      Mobile\n",
       "2    Mozilla_FireFox      Tablet\n",
       "3  Internet_Explorer     Desktop\n",
       "4               Edge      Tablet"
      ]
     },
     "execution_count": 358,
     "metadata": {},
     "output_type": "execute_result"
    }
   ],
   "source": [
    "combined_df.head()"
   ]
  },
  {
   "cell_type": "code",
   "execution_count": 359,
   "metadata": {},
   "outputs": [],
   "source": [
    "train_cats(combined_df)"
   ]
  },
  {
   "cell_type": "code",
   "execution_count": 360,
   "metadata": {},
   "outputs": [
    {
     "data": {
      "text/plain": [
       "Browser_Used    category\n",
       "Device_Used     category\n",
       "dtype: object"
      ]
     },
     "execution_count": 360,
     "metadata": {},
     "output_type": "execute_result"
    }
   ],
   "source": [
    "combined_df.dtypes"
   ]
  },
  {
   "cell_type": "code",
   "execution_count": 361,
   "metadata": {},
   "outputs": [],
   "source": [
    "combined_df= pd.concat([combined_df,targets],axis=1)"
   ]
  },
  {
   "cell_type": "code",
   "execution_count": 362,
   "metadata": {},
   "outputs": [
    {
     "name": "stdout",
     "output_type": "stream",
     "text": [
      "(68336, 11) (68336,)\n"
     ]
    }
   ],
   "source": [
    "df_tr, y_tr, nas = proc_df(combined_df,'Is_Response',max_n_cat=7)\n",
    "print(df_tr.shape,y_tr.shape)"
   ]
  },
  {
   "cell_type": "code",
   "execution_count": 363,
   "metadata": {},
   "outputs": [
    {
     "data": {
      "text/html": [
       "<div>\n",
       "<style scoped>\n",
       "    .dataframe tbody tr th:only-of-type {\n",
       "        vertical-align: middle;\n",
       "    }\n",
       "\n",
       "    .dataframe tbody tr th {\n",
       "        vertical-align: top;\n",
       "    }\n",
       "\n",
       "    .dataframe thead th {\n",
       "        text-align: right;\n",
       "    }\n",
       "</style>\n",
       "<table border=\"1\" class=\"dataframe\">\n",
       "  <thead>\n",
       "    <tr style=\"text-align: right;\">\n",
       "      <th></th>\n",
       "      <th>Browser_Used_Edge</th>\n",
       "      <th>Browser_Used_Google_Chrome</th>\n",
       "      <th>Browser_Used_Internet_Explorer</th>\n",
       "      <th>Browser_Used_Mozilla_FireFox</th>\n",
       "      <th>Browser_Used_Opera</th>\n",
       "      <th>Browser_Used_Safari</th>\n",
       "      <th>Browser_Used_nan</th>\n",
       "      <th>Device_Used_Desktop</th>\n",
       "      <th>Device_Used_Mobile</th>\n",
       "      <th>Device_Used_Tablet</th>\n",
       "      <th>Device_Used_nan</th>\n",
       "    </tr>\n",
       "  </thead>\n",
       "  <tbody>\n",
       "    <tr>\n",
       "      <th>0</th>\n",
       "      <td>1</td>\n",
       "      <td>0</td>\n",
       "      <td>0</td>\n",
       "      <td>0</td>\n",
       "      <td>0</td>\n",
       "      <td>0</td>\n",
       "      <td>0</td>\n",
       "      <td>0</td>\n",
       "      <td>1</td>\n",
       "      <td>0</td>\n",
       "      <td>0</td>\n",
       "    </tr>\n",
       "    <tr>\n",
       "      <th>1</th>\n",
       "      <td>0</td>\n",
       "      <td>0</td>\n",
       "      <td>1</td>\n",
       "      <td>0</td>\n",
       "      <td>0</td>\n",
       "      <td>0</td>\n",
       "      <td>0</td>\n",
       "      <td>0</td>\n",
       "      <td>1</td>\n",
       "      <td>0</td>\n",
       "      <td>0</td>\n",
       "    </tr>\n",
       "    <tr>\n",
       "      <th>2</th>\n",
       "      <td>0</td>\n",
       "      <td>0</td>\n",
       "      <td>0</td>\n",
       "      <td>1</td>\n",
       "      <td>0</td>\n",
       "      <td>0</td>\n",
       "      <td>0</td>\n",
       "      <td>0</td>\n",
       "      <td>0</td>\n",
       "      <td>1</td>\n",
       "      <td>0</td>\n",
       "    </tr>\n",
       "    <tr>\n",
       "      <th>3</th>\n",
       "      <td>0</td>\n",
       "      <td>0</td>\n",
       "      <td>1</td>\n",
       "      <td>0</td>\n",
       "      <td>0</td>\n",
       "      <td>0</td>\n",
       "      <td>0</td>\n",
       "      <td>1</td>\n",
       "      <td>0</td>\n",
       "      <td>0</td>\n",
       "      <td>0</td>\n",
       "    </tr>\n",
       "    <tr>\n",
       "      <th>4</th>\n",
       "      <td>1</td>\n",
       "      <td>0</td>\n",
       "      <td>0</td>\n",
       "      <td>0</td>\n",
       "      <td>0</td>\n",
       "      <td>0</td>\n",
       "      <td>0</td>\n",
       "      <td>0</td>\n",
       "      <td>0</td>\n",
       "      <td>1</td>\n",
       "      <td>0</td>\n",
       "    </tr>\n",
       "  </tbody>\n",
       "</table>\n",
       "</div>"
      ],
      "text/plain": [
       "   Browser_Used_Edge  Browser_Used_Google_Chrome  \\\n",
       "0                  1                           0   \n",
       "1                  0                           0   \n",
       "2                  0                           0   \n",
       "3                  0                           0   \n",
       "4                  1                           0   \n",
       "\n",
       "   Browser_Used_Internet_Explorer  Browser_Used_Mozilla_FireFox  \\\n",
       "0                               0                             0   \n",
       "1                               1                             0   \n",
       "2                               0                             1   \n",
       "3                               1                             0   \n",
       "4                               0                             0   \n",
       "\n",
       "   Browser_Used_Opera  Browser_Used_Safari  Browser_Used_nan  \\\n",
       "0                   0                    0                 0   \n",
       "1                   0                    0                 0   \n",
       "2                   0                    0                 0   \n",
       "3                   0                    0                 0   \n",
       "4                   0                    0                 0   \n",
       "\n",
       "   Device_Used_Desktop  Device_Used_Mobile  Device_Used_Tablet  \\\n",
       "0                    0                   1                   0   \n",
       "1                    0                   1                   0   \n",
       "2                    0                   0                   1   \n",
       "3                    1                   0                   0   \n",
       "4                    0                   0                   1   \n",
       "\n",
       "   Device_Used_nan  \n",
       "0                0  \n",
       "1                0  \n",
       "2                0  \n",
       "3                0  \n",
       "4                0  "
      ]
     },
     "execution_count": 363,
     "metadata": {},
     "output_type": "execute_result"
    }
   ],
   "source": [
    "df_tr.head()"
   ]
  },
  {
   "cell_type": "code",
   "execution_count": 364,
   "metadata": {},
   "outputs": [
    {
     "data": {
      "text/plain": [
       "array([ 0.,  0.,  0., ..., nan, nan, nan])"
      ]
     },
     "execution_count": 364,
     "metadata": {},
     "output_type": "execute_result"
    }
   ],
   "source": [
    "y_tr"
   ]
  },
  {
   "cell_type": "code",
   "execution_count": 365,
   "metadata": {},
   "outputs": [],
   "source": [
    "combined_df_new= get_combined()"
   ]
  },
  {
   "cell_type": "code",
   "execution_count": 366,
   "metadata": {},
   "outputs": [
    {
     "name": "stdout",
     "output_type": "stream",
     "text": [
      "(68336, 4)\n"
     ]
    }
   ],
   "source": [
    "print(combined_df_new.shape)"
   ]
  },
  {
   "cell_type": "code",
   "execution_count": 367,
   "metadata": {},
   "outputs": [
    {
     "data": {
      "text/plain": [
       "0    the room was kind of clean but had a very stro...\n",
       "1    i stayed at the crown plaza april -- - april -...\n",
       "2    i booked this hotel through hotwire at the low...\n",
       "3    stayed here with husband and sons on the way t...\n",
       "4    my girlfriends and i stayed here to celebrate ...\n",
       "Name: Description, dtype: object"
      ]
     },
     "execution_count": 367,
     "metadata": {},
     "output_type": "execute_result"
    }
   ],
   "source": [
    "# transformed the  Description  into lower case.\n",
    "combined_df_new['Description'] = combined_df_new['Description'].apply(lambda x: \" \".join(x.lower() for x in x.split()))\n",
    "combined_df_new['Description'].head()"
   ]
  },
  {
   "cell_type": "code",
   "execution_count": 368,
   "metadata": {},
   "outputs": [
    {
     "data": {
      "text/plain": [
       "68326    this hotel may not be the most glamorous in sf...\n",
       "68327    stayed here for  nights  had a room overlookin...\n",
       "68328    we stayed for three nights june  the location ...\n",
       "68329    we spent  nights in a king castia the beds are...\n",
       "68330    we booked our flighthotel package on expedia a...\n",
       "68331    i stayed at the hotel and towers for a confere...\n",
       "68332    trying to stay within the marriott family and ...\n",
       "68333    we stayed for  nights with our little dogvery ...\n",
       "68334    stayed at the yotel over the weekend and was v...\n",
       "68335    the blakely is is comfortable is every way the...\n",
       "Name: Description, dtype: object"
      ]
     },
     "execution_count": 368,
     "metadata": {},
     "output_type": "execute_result"
    }
   ],
   "source": [
    " #Remove punctuation, as it doesn’t add any extra information while treating text data\n",
    "combined_df_new['Description'] = combined_df_new['Description'].str.replace('[^\\w\\s]','')\n",
    "combined_df_new['Description'].tail(10)"
   ]
  },
  {
   "cell_type": "code",
   "execution_count": 369,
   "metadata": {},
   "outputs": [
    {
     "data": {
      "text/plain": [
       "0    room kind clean strong smell dogs generally av...\n",
       "1    stayed crown plaza april april staff friendly ...\n",
       "2    booked hotel hotwire lowest price could find g...\n",
       "3    stayed husband sons way alaska cruise loved ho...\n",
       "4    girlfriends stayed celebrate th birthdays plan...\n",
       "Name: Description, dtype: object"
      ]
     },
     "execution_count": 369,
     "metadata": {},
     "output_type": "execute_result"
    }
   ],
   "source": [
    "# Removal of stopwords\n",
    "from nltk.corpus import stopwords\n",
    "stop = stopwords.words('english')\n",
    "combined_df_new['Description'] = combined_df_new['Description'].apply(lambda x: \" \".join(x for x in x.split() if x not in stop))\n",
    "combined_df_new['Description'].head()\n"
   ]
  },
  {
   "cell_type": "code",
   "execution_count": 370,
   "metadata": {},
   "outputs": [
    {
     "data": {
      "text/plain": [
       "hotel        124948\n",
       "room         108113\n",
       "stay          46365\n",
       "great         44817\n",
       "staff         42681\n",
       "would         38717\n",
       "rooms         35609\n",
       "good          33094\n",
       "one           33016\n",
       "nice          32367\n",
       "location      32350\n",
       "stayed        29465\n",
       "us            28008\n",
       "clean         27816\n",
       "night         27211\n",
       "service       25523\n",
       "breakfast     24087\n",
       "get           23568\n",
       "time          21954\n",
       "also          21178\n",
       "desk          20040\n",
       "like          19261\n",
       "bed           18855\n",
       "friendly      18561\n",
       "day           18518\n",
       "could         18350\n",
       "area          18276\n",
       "well          18090\n",
       "place         17920\n",
       "small         17596\n",
       "dtype: int64"
      ]
     },
     "execution_count": 370,
     "metadata": {},
     "output_type": "execute_result"
    }
   ],
   "source": [
    "# Most frequent words in our text\n",
    "freq = pd.Series(' '.join(combined_df_new['Description']).split()).value_counts()[:30]\n",
    "freq"
   ]
  },
  {
   "cell_type": "code",
   "execution_count": 371,
   "metadata": {},
   "outputs": [],
   "source": [
    "# Rare word removal\n",
    "freq_rare = pd.Series(' '.join(combined_df_new['Description']).split()).value_counts()[-10:]"
   ]
  },
  {
   "cell_type": "code",
   "execution_count": 372,
   "metadata": {},
   "outputs": [
    {
     "name": "stdout",
     "output_type": "stream",
     "text": [
      "farias           1\n",
      "hypoalergenic    1\n",
      "openlayout       1\n",
      "thisno           1\n",
      "uhhokay          1\n",
      "thius            1\n",
      "productand       1\n",
      "rockefellow      1\n",
      "highpoints       1\n",
      "mishapsthere     1\n",
      "dtype: int64\n"
     ]
    }
   ],
   "source": [
    "print(freq_rare)"
   ]
  },
  {
   "cell_type": "code",
   "execution_count": 373,
   "metadata": {},
   "outputs": [],
   "source": [
    "freq_rare= list(freq_rare.index)\n",
    "combined_df_new['Description'] = combined_df_new['Description'].apply(lambda x: \" \".join(x for x in x.split() if x not in freq_rare))\n"
   ]
  },
  {
   "cell_type": "code",
   "execution_count": 374,
   "metadata": {},
   "outputs": [
    {
     "data": {
      "text/plain": [
       "0     room kind clean strong smell dog generally ave...\n",
       "1     stayed crown plaza april april staff friendly ...\n",
       "2     booked hotel hotwire lowest price could find g...\n",
       "3     stayed husband son way alaska cruise loved hot...\n",
       "4     girlfriend stayed celebrate th birthday planne...\n",
       "5     room one nice clearly updated recently clean b...\n",
       "6     husband stayed hotel time though fanciest hote...\n",
       "7     wife stayed glorious city back sf expensive fo...\n",
       "8     boyfriend stayed fairmont recent trip san fran...\n",
       "9     wonderful staff great location definately pric...\n",
       "10    step time square nice room stayed night great ...\n",
       "11    wife kid stayed valentine weekend really nice ...\n",
       "12    stay jolly madison xmas period main feature lo...\n",
       "13    highly recommend hawthorne terrace affordable ...\n",
       "14    found hotel clean nicely located good free shu...\n",
       "15    stayed elan th th october liked much returned ...\n",
       "16    priceline sent u hotel accepting bid usd night...\n",
       "17    old cheap furnituresour chair simply destroyed...\n",
       "18    stayed night really happy located min walk wal...\n",
       "19    service fine hotel fell way expectation respec...\n",
       "Name: Description, dtype: object"
      ]
     },
     "execution_count": 374,
     "metadata": {},
     "output_type": "execute_result"
    }
   ],
   "source": [
    "# Lemmatization-  it converts the word into its root word, rather than just stripping the suffices.\n",
    "from textblob import Word\n",
    "combined_df_new['Description'] = combined_df_new['Description'].apply(lambda x: \" \".join([Word(word).lemmatize() for word in x.split()]))\n",
    "combined_df_new['Description'].head(20)"
   ]
  },
  {
   "cell_type": "code",
   "execution_count": 377,
   "metadata": {},
   "outputs": [
    {
     "data": {
      "text/plain": [
       "<68336x350 sparse matrix of type '<class 'numpy.int64'>'\n",
       "\twith 2365578 stored elements in Compressed Sparse Row format>"
      ]
     },
     "execution_count": 377,
     "metadata": {},
     "output_type": "execute_result"
    }
   ],
   "source": [
    "# Bag of Words\n",
    "from sklearn.feature_extraction.text import CountVectorizer\n",
    "bow = CountVectorizer(max_features=350, ngram_range=(1,1), min_df=150,analyzer = \"word\")\n",
    "train_bow = bow.fit_transform(combined_df_new['Description'])\n",
    "train_bow\n"
   ]
  },
  {
   "cell_type": "code",
   "execution_count": null,
   "metadata": {},
   "outputs": [],
   "source": [
    "#tfidfvec = TfidfVectorizer(analyzer='word', ngram_range = (1,1), min_df = 150, max_features=500)"
   ]
  },
  {
   "cell_type": "code",
   "execution_count": 376,
   "metadata": {},
   "outputs": [
    {
     "data": {
      "text/plain": [
       "0    room kind clean strong smell dog generally ave...\n",
       "1    stayed crown plaza april april staff friendly ...\n",
       "2    booked hotel hotwire lowest price could find g...\n",
       "3    stayed husband son way alaska cruise loved hot...\n",
       "4    girlfriend stayed celebrate th birthday planne...\n",
       "Name: Description, dtype: object"
      ]
     },
     "execution_count": 376,
     "metadata": {},
     "output_type": "execute_result"
    }
   ],
   "source": [
    "combined_df_new['Description'][:5]"
   ]
  },
  {
   "cell_type": "code",
   "execution_count": 316,
   "metadata": {},
   "outputs": [
    {
     "data": {
      "text/plain": [
       "((68336, 11), (68336,))"
      ]
     },
     "execution_count": 316,
     "metadata": {},
     "output_type": "execute_result"
    }
   ],
   "source": [
    "df_tr.shape,y_tr.shape"
   ]
  },
  {
   "cell_type": "code",
   "execution_count": 252,
   "metadata": {},
   "outputs": [
    {
     "data": {
      "text/plain": [
       "array([ 0.,  0.,  0., ..., nan, nan, nan])"
      ]
     },
     "execution_count": 252,
     "metadata": {},
     "output_type": "execute_result"
    }
   ],
   "source": [
    "y_tr"
   ]
  },
  {
   "cell_type": "code",
   "execution_count": 385,
   "metadata": {},
   "outputs": [],
   "source": [
    "df_tr=pd.concat([df_tr,description],axis=1)"
   ]
  },
  {
   "cell_type": "code",
   "execution_count": 386,
   "metadata": {},
   "outputs": [
    {
     "data": {
      "text/html": [
       "<div>\n",
       "<style scoped>\n",
       "    .dataframe tbody tr th:only-of-type {\n",
       "        vertical-align: middle;\n",
       "    }\n",
       "\n",
       "    .dataframe tbody tr th {\n",
       "        vertical-align: top;\n",
       "    }\n",
       "\n",
       "    .dataframe thead th {\n",
       "        text-align: right;\n",
       "    }\n",
       "</style>\n",
       "<table border=\"1\" class=\"dataframe\">\n",
       "  <thead>\n",
       "    <tr style=\"text-align: right;\">\n",
       "      <th></th>\n",
       "      <th>Browser_Used_Edge</th>\n",
       "      <th>Browser_Used_Google_Chrome</th>\n",
       "      <th>Browser_Used_Internet_Explorer</th>\n",
       "      <th>Browser_Used_Mozilla_FireFox</th>\n",
       "      <th>Browser_Used_Opera</th>\n",
       "      <th>Browser_Used_Safari</th>\n",
       "      <th>Browser_Used_nan</th>\n",
       "      <th>Device_Used_Desktop</th>\n",
       "      <th>Device_Used_Mobile</th>\n",
       "      <th>Device_Used_Tablet</th>\n",
       "      <th>Device_Used_nan</th>\n",
       "      <th>Description</th>\n",
       "    </tr>\n",
       "  </thead>\n",
       "  <tbody>\n",
       "    <tr>\n",
       "      <th>0</th>\n",
       "      <td>1</td>\n",
       "      <td>0</td>\n",
       "      <td>0</td>\n",
       "      <td>0</td>\n",
       "      <td>0</td>\n",
       "      <td>0</td>\n",
       "      <td>0</td>\n",
       "      <td>0</td>\n",
       "      <td>1</td>\n",
       "      <td>0</td>\n",
       "      <td>0</td>\n",
       "      <td>room kind clean strong smell dog generally ave...</td>\n",
       "    </tr>\n",
       "    <tr>\n",
       "      <th>1</th>\n",
       "      <td>0</td>\n",
       "      <td>0</td>\n",
       "      <td>1</td>\n",
       "      <td>0</td>\n",
       "      <td>0</td>\n",
       "      <td>0</td>\n",
       "      <td>0</td>\n",
       "      <td>0</td>\n",
       "      <td>1</td>\n",
       "      <td>0</td>\n",
       "      <td>0</td>\n",
       "      <td>stayed crown plaza april april staff friendly ...</td>\n",
       "    </tr>\n",
       "    <tr>\n",
       "      <th>2</th>\n",
       "      <td>0</td>\n",
       "      <td>0</td>\n",
       "      <td>0</td>\n",
       "      <td>1</td>\n",
       "      <td>0</td>\n",
       "      <td>0</td>\n",
       "      <td>0</td>\n",
       "      <td>0</td>\n",
       "      <td>0</td>\n",
       "      <td>1</td>\n",
       "      <td>0</td>\n",
       "      <td>booked hotel hotwire lowest price could find g...</td>\n",
       "    </tr>\n",
       "    <tr>\n",
       "      <th>3</th>\n",
       "      <td>0</td>\n",
       "      <td>0</td>\n",
       "      <td>1</td>\n",
       "      <td>0</td>\n",
       "      <td>0</td>\n",
       "      <td>0</td>\n",
       "      <td>0</td>\n",
       "      <td>1</td>\n",
       "      <td>0</td>\n",
       "      <td>0</td>\n",
       "      <td>0</td>\n",
       "      <td>stayed husband son way alaska cruise loved hot...</td>\n",
       "    </tr>\n",
       "    <tr>\n",
       "      <th>4</th>\n",
       "      <td>1</td>\n",
       "      <td>0</td>\n",
       "      <td>0</td>\n",
       "      <td>0</td>\n",
       "      <td>0</td>\n",
       "      <td>0</td>\n",
       "      <td>0</td>\n",
       "      <td>0</td>\n",
       "      <td>0</td>\n",
       "      <td>1</td>\n",
       "      <td>0</td>\n",
       "      <td>girlfriend stayed celebrate th birthday planne...</td>\n",
       "    </tr>\n",
       "  </tbody>\n",
       "</table>\n",
       "</div>"
      ],
      "text/plain": [
       "   Browser_Used_Edge  Browser_Used_Google_Chrome  \\\n",
       "0                  1                           0   \n",
       "1                  0                           0   \n",
       "2                  0                           0   \n",
       "3                  0                           0   \n",
       "4                  1                           0   \n",
       "\n",
       "   Browser_Used_Internet_Explorer  Browser_Used_Mozilla_FireFox  \\\n",
       "0                               0                             0   \n",
       "1                               1                             0   \n",
       "2                               0                             1   \n",
       "3                               1                             0   \n",
       "4                               0                             0   \n",
       "\n",
       "   Browser_Used_Opera  Browser_Used_Safari  Browser_Used_nan  \\\n",
       "0                   0                    0                 0   \n",
       "1                   0                    0                 0   \n",
       "2                   0                    0                 0   \n",
       "3                   0                    0                 0   \n",
       "4                   0                    0                 0   \n",
       "\n",
       "   Device_Used_Desktop  Device_Used_Mobile  Device_Used_Tablet  \\\n",
       "0                    0                   1                   0   \n",
       "1                    0                   1                   0   \n",
       "2                    0                   0                   1   \n",
       "3                    1                   0                   0   \n",
       "4                    0                   0                   1   \n",
       "\n",
       "   Device_Used_nan                                        Description  \n",
       "0                0  room kind clean strong smell dog generally ave...  \n",
       "1                0  stayed crown plaza april april staff friendly ...  \n",
       "2                0  booked hotel hotwire lowest price could find g...  \n",
       "3                0  stayed husband son way alaska cruise loved hot...  \n",
       "4                0  girlfriend stayed celebrate th birthday planne...  "
      ]
     },
     "execution_count": 386,
     "metadata": {},
     "output_type": "execute_result"
    }
   ],
   "source": [
    "df_tr.head()"
   ]
  },
  {
   "cell_type": "code",
   "execution_count": 384,
   "metadata": {},
   "outputs": [],
   "source": [
    "description=combined_df_new['Description']"
   ]
  },
  {
   "cell_type": "code",
   "execution_count": 378,
   "metadata": {},
   "outputs": [],
   "source": [
    "bow_df = pd.DataFrame(train_bow.todense())"
   ]
  },
  {
   "cell_type": "code",
   "execution_count": 379,
   "metadata": {},
   "outputs": [
    {
     "data": {
      "text/html": [
       "<div>\n",
       "<style scoped>\n",
       "    .dataframe tbody tr th:only-of-type {\n",
       "        vertical-align: middle;\n",
       "    }\n",
       "\n",
       "    .dataframe tbody tr th {\n",
       "        vertical-align: top;\n",
       "    }\n",
       "\n",
       "    .dataframe thead th {\n",
       "        text-align: right;\n",
       "    }\n",
       "</style>\n",
       "<table border=\"1\" class=\"dataframe\">\n",
       "  <thead>\n",
       "    <tr style=\"text-align: right;\">\n",
       "      <th></th>\n",
       "      <th>0</th>\n",
       "      <th>1</th>\n",
       "      <th>2</th>\n",
       "      <th>3</th>\n",
       "      <th>4</th>\n",
       "      <th>5</th>\n",
       "      <th>6</th>\n",
       "      <th>7</th>\n",
       "      <th>8</th>\n",
       "      <th>9</th>\n",
       "      <th>...</th>\n",
       "      <th>340</th>\n",
       "      <th>341</th>\n",
       "      <th>342</th>\n",
       "      <th>343</th>\n",
       "      <th>344</th>\n",
       "      <th>345</th>\n",
       "      <th>346</th>\n",
       "      <th>347</th>\n",
       "      <th>348</th>\n",
       "      <th>349</th>\n",
       "    </tr>\n",
       "  </thead>\n",
       "  <tbody>\n",
       "    <tr>\n",
       "      <th>0</th>\n",
       "      <td>0</td>\n",
       "      <td>0</td>\n",
       "      <td>0</td>\n",
       "      <td>0</td>\n",
       "      <td>0</td>\n",
       "      <td>0</td>\n",
       "      <td>0</td>\n",
       "      <td>0</td>\n",
       "      <td>0</td>\n",
       "      <td>0</td>\n",
       "      <td>...</td>\n",
       "      <td>0</td>\n",
       "      <td>0</td>\n",
       "      <td>0</td>\n",
       "      <td>0</td>\n",
       "      <td>0</td>\n",
       "      <td>0</td>\n",
       "      <td>1</td>\n",
       "      <td>0</td>\n",
       "      <td>0</td>\n",
       "      <td>1</td>\n",
       "    </tr>\n",
       "    <tr>\n",
       "      <th>1</th>\n",
       "      <td>0</td>\n",
       "      <td>0</td>\n",
       "      <td>0</td>\n",
       "      <td>0</td>\n",
       "      <td>0</td>\n",
       "      <td>0</td>\n",
       "      <td>0</td>\n",
       "      <td>0</td>\n",
       "      <td>0</td>\n",
       "      <td>0</td>\n",
       "      <td>...</td>\n",
       "      <td>0</td>\n",
       "      <td>0</td>\n",
       "      <td>0</td>\n",
       "      <td>0</td>\n",
       "      <td>1</td>\n",
       "      <td>0</td>\n",
       "      <td>2</td>\n",
       "      <td>0</td>\n",
       "      <td>0</td>\n",
       "      <td>0</td>\n",
       "    </tr>\n",
       "    <tr>\n",
       "      <th>2</th>\n",
       "      <td>0</td>\n",
       "      <td>0</td>\n",
       "      <td>0</td>\n",
       "      <td>0</td>\n",
       "      <td>0</td>\n",
       "      <td>0</td>\n",
       "      <td>2</td>\n",
       "      <td>0</td>\n",
       "      <td>0</td>\n",
       "      <td>0</td>\n",
       "      <td>...</td>\n",
       "      <td>0</td>\n",
       "      <td>0</td>\n",
       "      <td>0</td>\n",
       "      <td>0</td>\n",
       "      <td>0</td>\n",
       "      <td>0</td>\n",
       "      <td>2</td>\n",
       "      <td>0</td>\n",
       "      <td>0</td>\n",
       "      <td>0</td>\n",
       "    </tr>\n",
       "    <tr>\n",
       "      <th>3</th>\n",
       "      <td>0</td>\n",
       "      <td>0</td>\n",
       "      <td>0</td>\n",
       "      <td>0</td>\n",
       "      <td>0</td>\n",
       "      <td>0</td>\n",
       "      <td>0</td>\n",
       "      <td>0</td>\n",
       "      <td>0</td>\n",
       "      <td>0</td>\n",
       "      <td>...</td>\n",
       "      <td>0</td>\n",
       "      <td>0</td>\n",
       "      <td>0</td>\n",
       "      <td>0</td>\n",
       "      <td>0</td>\n",
       "      <td>0</td>\n",
       "      <td>0</td>\n",
       "      <td>0</td>\n",
       "      <td>0</td>\n",
       "      <td>0</td>\n",
       "    </tr>\n",
       "    <tr>\n",
       "      <th>4</th>\n",
       "      <td>0</td>\n",
       "      <td>0</td>\n",
       "      <td>0</td>\n",
       "      <td>0</td>\n",
       "      <td>0</td>\n",
       "      <td>0</td>\n",
       "      <td>0</td>\n",
       "      <td>0</td>\n",
       "      <td>0</td>\n",
       "      <td>0</td>\n",
       "      <td>...</td>\n",
       "      <td>0</td>\n",
       "      <td>0</td>\n",
       "      <td>0</td>\n",
       "      <td>1</td>\n",
       "      <td>0</td>\n",
       "      <td>1</td>\n",
       "      <td>3</td>\n",
       "      <td>0</td>\n",
       "      <td>0</td>\n",
       "      <td>0</td>\n",
       "    </tr>\n",
       "    <tr>\n",
       "      <th>5</th>\n",
       "      <td>0</td>\n",
       "      <td>0</td>\n",
       "      <td>0</td>\n",
       "      <td>0</td>\n",
       "      <td>0</td>\n",
       "      <td>0</td>\n",
       "      <td>0</td>\n",
       "      <td>0</td>\n",
       "      <td>0</td>\n",
       "      <td>0</td>\n",
       "      <td>...</td>\n",
       "      <td>0</td>\n",
       "      <td>0</td>\n",
       "      <td>0</td>\n",
       "      <td>0</td>\n",
       "      <td>0</td>\n",
       "      <td>0</td>\n",
       "      <td>1</td>\n",
       "      <td>0</td>\n",
       "      <td>0</td>\n",
       "      <td>0</td>\n",
       "    </tr>\n",
       "    <tr>\n",
       "      <th>6</th>\n",
       "      <td>0</td>\n",
       "      <td>0</td>\n",
       "      <td>0</td>\n",
       "      <td>0</td>\n",
       "      <td>0</td>\n",
       "      <td>0</td>\n",
       "      <td>0</td>\n",
       "      <td>0</td>\n",
       "      <td>0</td>\n",
       "      <td>0</td>\n",
       "      <td>...</td>\n",
       "      <td>0</td>\n",
       "      <td>0</td>\n",
       "      <td>0</td>\n",
       "      <td>0</td>\n",
       "      <td>0</td>\n",
       "      <td>0</td>\n",
       "      <td>0</td>\n",
       "      <td>0</td>\n",
       "      <td>0</td>\n",
       "      <td>0</td>\n",
       "    </tr>\n",
       "    <tr>\n",
       "      <th>7</th>\n",
       "      <td>0</td>\n",
       "      <td>0</td>\n",
       "      <td>0</td>\n",
       "      <td>0</td>\n",
       "      <td>0</td>\n",
       "      <td>0</td>\n",
       "      <td>0</td>\n",
       "      <td>0</td>\n",
       "      <td>0</td>\n",
       "      <td>0</td>\n",
       "      <td>...</td>\n",
       "      <td>0</td>\n",
       "      <td>0</td>\n",
       "      <td>0</td>\n",
       "      <td>1</td>\n",
       "      <td>0</td>\n",
       "      <td>0</td>\n",
       "      <td>1</td>\n",
       "      <td>0</td>\n",
       "      <td>0</td>\n",
       "      <td>0</td>\n",
       "    </tr>\n",
       "    <tr>\n",
       "      <th>8</th>\n",
       "      <td>0</td>\n",
       "      <td>0</td>\n",
       "      <td>0</td>\n",
       "      <td>0</td>\n",
       "      <td>0</td>\n",
       "      <td>0</td>\n",
       "      <td>0</td>\n",
       "      <td>0</td>\n",
       "      <td>0</td>\n",
       "      <td>0</td>\n",
       "      <td>...</td>\n",
       "      <td>0</td>\n",
       "      <td>0</td>\n",
       "      <td>0</td>\n",
       "      <td>1</td>\n",
       "      <td>0</td>\n",
       "      <td>0</td>\n",
       "      <td>0</td>\n",
       "      <td>0</td>\n",
       "      <td>0</td>\n",
       "      <td>1</td>\n",
       "    </tr>\n",
       "    <tr>\n",
       "      <th>9</th>\n",
       "      <td>0</td>\n",
       "      <td>0</td>\n",
       "      <td>0</td>\n",
       "      <td>1</td>\n",
       "      <td>0</td>\n",
       "      <td>0</td>\n",
       "      <td>0</td>\n",
       "      <td>0</td>\n",
       "      <td>0</td>\n",
       "      <td>0</td>\n",
       "      <td>...</td>\n",
       "      <td>0</td>\n",
       "      <td>0</td>\n",
       "      <td>0</td>\n",
       "      <td>1</td>\n",
       "      <td>0</td>\n",
       "      <td>0</td>\n",
       "      <td>0</td>\n",
       "      <td>0</td>\n",
       "      <td>0</td>\n",
       "      <td>0</td>\n",
       "    </tr>\n",
       "  </tbody>\n",
       "</table>\n",
       "<p>10 rows × 350 columns</p>\n",
       "</div>"
      ],
      "text/plain": [
       "   0    1    2    3    4    5    6    7    8    9   ...   340  341  342  343  \\\n",
       "0    0    0    0    0    0    0    0    0    0    0 ...     0    0    0    0   \n",
       "1    0    0    0    0    0    0    0    0    0    0 ...     0    0    0    0   \n",
       "2    0    0    0    0    0    0    2    0    0    0 ...     0    0    0    0   \n",
       "3    0    0    0    0    0    0    0    0    0    0 ...     0    0    0    0   \n",
       "4    0    0    0    0    0    0    0    0    0    0 ...     0    0    0    1   \n",
       "5    0    0    0    0    0    0    0    0    0    0 ...     0    0    0    0   \n",
       "6    0    0    0    0    0    0    0    0    0    0 ...     0    0    0    0   \n",
       "7    0    0    0    0    0    0    0    0    0    0 ...     0    0    0    1   \n",
       "8    0    0    0    0    0    0    0    0    0    0 ...     0    0    0    1   \n",
       "9    0    0    0    1    0    0    0    0    0    0 ...     0    0    0    1   \n",
       "\n",
       "   344  345  346  347  348  349  \n",
       "0    0    0    1    0    0    1  \n",
       "1    1    0    2    0    0    0  \n",
       "2    0    0    2    0    0    0  \n",
       "3    0    0    0    0    0    0  \n",
       "4    0    1    3    0    0    0  \n",
       "5    0    0    1    0    0    0  \n",
       "6    0    0    0    0    0    0  \n",
       "7    0    0    1    0    0    0  \n",
       "8    0    0    0    0    0    1  \n",
       "9    0    0    0    0    0    0  \n",
       "\n",
       "[10 rows x 350 columns]"
      ]
     },
     "execution_count": 379,
     "metadata": {},
     "output_type": "execute_result"
    }
   ],
   "source": [
    "bow_df[:10]"
   ]
  },
  {
   "cell_type": "code",
   "execution_count": 380,
   "metadata": {},
   "outputs": [],
   "source": [
    "bow_df.columns = ['col'+ str(x) for x in bow_df.columns]"
   ]
  },
  {
   "cell_type": "code",
   "execution_count": 381,
   "metadata": {},
   "outputs": [
    {
     "data": {
      "text/plain": [
       "Index(['col0', 'col1', 'col2', 'col3', 'col4', 'col5', 'col6', 'col7', 'col8',\n",
       "       'col9',\n",
       "       ...\n",
       "       'col340', 'col341', 'col342', 'col343', 'col344', 'col345', 'col346',\n",
       "       'col347', 'col348', 'col349'],\n",
       "      dtype='object', length=350)"
      ]
     },
     "execution_count": 381,
     "metadata": {},
     "output_type": "execute_result"
    }
   ],
   "source": [
    "bow_df.columns"
   ]
  },
  {
   "cell_type": "code",
   "execution_count": 382,
   "metadata": {},
   "outputs": [],
   "source": [
    "# create separate data frame for bag of words and tf-idf\n",
    "\n",
    "bow_df_train = bow_df[:38932]\n",
    "bow_df_test = bow_df[38932:]"
   ]
  },
  {
   "cell_type": "code",
   "execution_count": 383,
   "metadata": {},
   "outputs": [
    {
     "data": {
      "text/plain": [
       "((38932, 350), (29404, 350))"
      ]
     },
     "execution_count": 383,
     "metadata": {},
     "output_type": "execute_result"
    }
   ],
   "source": [
    "bow_df_train.shape,bow_df_test.shape"
   ]
  },
  {
   "cell_type": "code",
   "execution_count": 387,
   "metadata": {},
   "outputs": [],
   "source": [
    "Response=combined_df_new['Is_Response']"
   ]
  },
  {
   "cell_type": "code",
   "execution_count": 388,
   "metadata": {},
   "outputs": [],
   "source": [
    "df_tr=pd.concat([df_tr,Response],axis=1,inplace=True)"
   ]
  },
  {
   "cell_type": "code",
   "execution_count": 390,
   "metadata": {},
   "outputs": [],
   "source": [
    "df_tr.drop(['Description'],axis=1,inplace=True)"
   ]
  },
  {
   "cell_type": "code",
   "execution_count": 391,
   "metadata": {},
   "outputs": [
    {
     "data": {
      "text/html": [
       "<div>\n",
       "<style scoped>\n",
       "    .dataframe tbody tr th:only-of-type {\n",
       "        vertical-align: middle;\n",
       "    }\n",
       "\n",
       "    .dataframe tbody tr th {\n",
       "        vertical-align: top;\n",
       "    }\n",
       "\n",
       "    .dataframe thead th {\n",
       "        text-align: right;\n",
       "    }\n",
       "</style>\n",
       "<table border=\"1\" class=\"dataframe\">\n",
       "  <thead>\n",
       "    <tr style=\"text-align: right;\">\n",
       "      <th></th>\n",
       "      <th>Browser_Used_Edge</th>\n",
       "      <th>Browser_Used_Google_Chrome</th>\n",
       "      <th>Browser_Used_Internet_Explorer</th>\n",
       "      <th>Browser_Used_Mozilla_FireFox</th>\n",
       "      <th>Browser_Used_Opera</th>\n",
       "      <th>Browser_Used_Safari</th>\n",
       "      <th>Browser_Used_nan</th>\n",
       "      <th>Device_Used_Desktop</th>\n",
       "      <th>Device_Used_Mobile</th>\n",
       "      <th>Device_Used_Tablet</th>\n",
       "      <th>Device_Used_nan</th>\n",
       "      <th>Is_Response</th>\n",
       "    </tr>\n",
       "  </thead>\n",
       "  <tbody>\n",
       "    <tr>\n",
       "      <th>0</th>\n",
       "      <td>1</td>\n",
       "      <td>0</td>\n",
       "      <td>0</td>\n",
       "      <td>0</td>\n",
       "      <td>0</td>\n",
       "      <td>0</td>\n",
       "      <td>0</td>\n",
       "      <td>0</td>\n",
       "      <td>1</td>\n",
       "      <td>0</td>\n",
       "      <td>0</td>\n",
       "      <td>not happy</td>\n",
       "    </tr>\n",
       "    <tr>\n",
       "      <th>1</th>\n",
       "      <td>0</td>\n",
       "      <td>0</td>\n",
       "      <td>1</td>\n",
       "      <td>0</td>\n",
       "      <td>0</td>\n",
       "      <td>0</td>\n",
       "      <td>0</td>\n",
       "      <td>0</td>\n",
       "      <td>1</td>\n",
       "      <td>0</td>\n",
       "      <td>0</td>\n",
       "      <td>not happy</td>\n",
       "    </tr>\n",
       "    <tr>\n",
       "      <th>2</th>\n",
       "      <td>0</td>\n",
       "      <td>0</td>\n",
       "      <td>0</td>\n",
       "      <td>1</td>\n",
       "      <td>0</td>\n",
       "      <td>0</td>\n",
       "      <td>0</td>\n",
       "      <td>0</td>\n",
       "      <td>0</td>\n",
       "      <td>1</td>\n",
       "      <td>0</td>\n",
       "      <td>not happy</td>\n",
       "    </tr>\n",
       "    <tr>\n",
       "      <th>3</th>\n",
       "      <td>0</td>\n",
       "      <td>0</td>\n",
       "      <td>1</td>\n",
       "      <td>0</td>\n",
       "      <td>0</td>\n",
       "      <td>0</td>\n",
       "      <td>0</td>\n",
       "      <td>1</td>\n",
       "      <td>0</td>\n",
       "      <td>0</td>\n",
       "      <td>0</td>\n",
       "      <td>happy</td>\n",
       "    </tr>\n",
       "    <tr>\n",
       "      <th>4</th>\n",
       "      <td>1</td>\n",
       "      <td>0</td>\n",
       "      <td>0</td>\n",
       "      <td>0</td>\n",
       "      <td>0</td>\n",
       "      <td>0</td>\n",
       "      <td>0</td>\n",
       "      <td>0</td>\n",
       "      <td>0</td>\n",
       "      <td>1</td>\n",
       "      <td>0</td>\n",
       "      <td>not happy</td>\n",
       "    </tr>\n",
       "  </tbody>\n",
       "</table>\n",
       "</div>"
      ],
      "text/plain": [
       "   Browser_Used_Edge  Browser_Used_Google_Chrome  \\\n",
       "0                  1                           0   \n",
       "1                  0                           0   \n",
       "2                  0                           0   \n",
       "3                  0                           0   \n",
       "4                  1                           0   \n",
       "\n",
       "   Browser_Used_Internet_Explorer  Browser_Used_Mozilla_FireFox  \\\n",
       "0                               0                             0   \n",
       "1                               1                             0   \n",
       "2                               0                             1   \n",
       "3                               1                             0   \n",
       "4                               0                             0   \n",
       "\n",
       "   Browser_Used_Opera  Browser_Used_Safari  Browser_Used_nan  \\\n",
       "0                   0                    0                 0   \n",
       "1                   0                    0                 0   \n",
       "2                   0                    0                 0   \n",
       "3                   0                    0                 0   \n",
       "4                   0                    0                 0   \n",
       "\n",
       "   Device_Used_Desktop  Device_Used_Mobile  Device_Used_Tablet  \\\n",
       "0                    0                   1                   0   \n",
       "1                    0                   1                   0   \n",
       "2                    0                   0                   1   \n",
       "3                    1                   0                   0   \n",
       "4                    0                   0                   1   \n",
       "\n",
       "   Device_Used_nan Is_Response  \n",
       "0                0   not happy  \n",
       "1                0   not happy  \n",
       "2                0   not happy  \n",
       "3                0       happy  \n",
       "4                0   not happy  "
      ]
     },
     "execution_count": 391,
     "metadata": {},
     "output_type": "execute_result"
    }
   ],
   "source": [
    "df_tr.head()"
   ]
  },
  {
   "cell_type": "code",
   "execution_count": 472,
   "metadata": {},
   "outputs": [],
   "source": [
    "train_feats = df_tr[~pd.isnull(df_tr.Is_Response)]\n",
    "test_feats = df_tr[pd.isnull(df_tr.Is_Response)]"
   ]
  },
  {
   "cell_type": "code",
   "execution_count": 473,
   "metadata": {},
   "outputs": [
    {
     "data": {
      "text/html": [
       "<div>\n",
       "<style scoped>\n",
       "    .dataframe tbody tr th:only-of-type {\n",
       "        vertical-align: middle;\n",
       "    }\n",
       "\n",
       "    .dataframe tbody tr th {\n",
       "        vertical-align: top;\n",
       "    }\n",
       "\n",
       "    .dataframe thead th {\n",
       "        text-align: right;\n",
       "    }\n",
       "</style>\n",
       "<table border=\"1\" class=\"dataframe\">\n",
       "  <thead>\n",
       "    <tr style=\"text-align: right;\">\n",
       "      <th></th>\n",
       "      <th>Browser_Used_Edge</th>\n",
       "      <th>Browser_Used_Google_Chrome</th>\n",
       "      <th>Browser_Used_Internet_Explorer</th>\n",
       "      <th>Browser_Used_Mozilla_FireFox</th>\n",
       "      <th>Browser_Used_Opera</th>\n",
       "      <th>Browser_Used_Safari</th>\n",
       "      <th>Browser_Used_nan</th>\n",
       "      <th>Device_Used_Desktop</th>\n",
       "      <th>Device_Used_Mobile</th>\n",
       "      <th>Device_Used_Tablet</th>\n",
       "      <th>Device_Used_nan</th>\n",
       "      <th>Is_Response</th>\n",
       "    </tr>\n",
       "  </thead>\n",
       "  <tbody>\n",
       "    <tr>\n",
       "      <th>38932</th>\n",
       "      <td>0</td>\n",
       "      <td>0</td>\n",
       "      <td>0</td>\n",
       "      <td>1</td>\n",
       "      <td>0</td>\n",
       "      <td>0</td>\n",
       "      <td>0</td>\n",
       "      <td>0</td>\n",
       "      <td>1</td>\n",
       "      <td>0</td>\n",
       "      <td>0</td>\n",
       "      <td>NaN</td>\n",
       "    </tr>\n",
       "    <tr>\n",
       "      <th>38933</th>\n",
       "      <td>0</td>\n",
       "      <td>0</td>\n",
       "      <td>1</td>\n",
       "      <td>0</td>\n",
       "      <td>0</td>\n",
       "      <td>0</td>\n",
       "      <td>0</td>\n",
       "      <td>1</td>\n",
       "      <td>0</td>\n",
       "      <td>0</td>\n",
       "      <td>0</td>\n",
       "      <td>NaN</td>\n",
       "    </tr>\n",
       "    <tr>\n",
       "      <th>38934</th>\n",
       "      <td>0</td>\n",
       "      <td>0</td>\n",
       "      <td>1</td>\n",
       "      <td>0</td>\n",
       "      <td>0</td>\n",
       "      <td>0</td>\n",
       "      <td>0</td>\n",
       "      <td>0</td>\n",
       "      <td>0</td>\n",
       "      <td>1</td>\n",
       "      <td>0</td>\n",
       "      <td>NaN</td>\n",
       "    </tr>\n",
       "    <tr>\n",
       "      <th>38935</th>\n",
       "      <td>1</td>\n",
       "      <td>0</td>\n",
       "      <td>0</td>\n",
       "      <td>0</td>\n",
       "      <td>0</td>\n",
       "      <td>0</td>\n",
       "      <td>0</td>\n",
       "      <td>0</td>\n",
       "      <td>1</td>\n",
       "      <td>0</td>\n",
       "      <td>0</td>\n",
       "      <td>NaN</td>\n",
       "    </tr>\n",
       "    <tr>\n",
       "      <th>38936</th>\n",
       "      <td>0</td>\n",
       "      <td>0</td>\n",
       "      <td>0</td>\n",
       "      <td>1</td>\n",
       "      <td>0</td>\n",
       "      <td>0</td>\n",
       "      <td>0</td>\n",
       "      <td>0</td>\n",
       "      <td>1</td>\n",
       "      <td>0</td>\n",
       "      <td>0</td>\n",
       "      <td>NaN</td>\n",
       "    </tr>\n",
       "  </tbody>\n",
       "</table>\n",
       "</div>"
      ],
      "text/plain": [
       "       Browser_Used_Edge  Browser_Used_Google_Chrome  \\\n",
       "38932                  0                           0   \n",
       "38933                  0                           0   \n",
       "38934                  0                           0   \n",
       "38935                  1                           0   \n",
       "38936                  0                           0   \n",
       "\n",
       "       Browser_Used_Internet_Explorer  Browser_Used_Mozilla_FireFox  \\\n",
       "38932                               0                             1   \n",
       "38933                               1                             0   \n",
       "38934                               1                             0   \n",
       "38935                               0                             0   \n",
       "38936                               0                             1   \n",
       "\n",
       "       Browser_Used_Opera  Browser_Used_Safari  Browser_Used_nan  \\\n",
       "38932                   0                    0                 0   \n",
       "38933                   0                    0                 0   \n",
       "38934                   0                    0                 0   \n",
       "38935                   0                    0                 0   \n",
       "38936                   0                    0                 0   \n",
       "\n",
       "       Device_Used_Desktop  Device_Used_Mobile  Device_Used_Tablet  \\\n",
       "38932                    0                   1                   0   \n",
       "38933                    1                   0                   0   \n",
       "38934                    0                   0                   1   \n",
       "38935                    0                   1                   0   \n",
       "38936                    0                   1                   0   \n",
       "\n",
       "       Device_Used_nan Is_Response  \n",
       "38932                0         NaN  \n",
       "38933                0         NaN  \n",
       "38934                0         NaN  \n",
       "38935                0         NaN  \n",
       "38936                0         NaN  "
      ]
     },
     "execution_count": 473,
     "metadata": {},
     "output_type": "execute_result"
    }
   ],
   "source": [
    "test_feats.head()"
   ]
  },
  {
   "cell_type": "code",
   "execution_count": 474,
   "metadata": {},
   "outputs": [
    {
     "name": "stderr",
     "output_type": "stream",
     "text": [
      "C:\\Users\\Rohit Gupta\\Anaconda3\\lib\\site-packages\\ipykernel_launcher.py:2: SettingWithCopyWarning: \n",
      "A value is trying to be set on a copy of a slice from a DataFrame.\n",
      "Try using .loc[row_indexer,col_indexer] = value instead\n",
      "\n",
      "See the caveats in the documentation: http://pandas.pydata.org/pandas-docs/stable/indexing.html#indexing-view-versus-copy\n",
      "  \n"
     ]
    }
   ],
   "source": [
    "### set target variable\n",
    "train_feats['Is_Response']=train_feats['Is_Response'] .map({'not happy':0,'happy':1})\n",
    "#train_feats['Is_Response'] = [1 if x == 'happy' else 0 for x in train_feats['Is_Response']]"
   ]
  },
  {
   "cell_type": "code",
   "execution_count": 475,
   "metadata": {},
   "outputs": [],
   "source": [
    "# merge count (bag of word) features into train\n",
    "train_feats1 = pd.concat([train_feats, bow_df_train], axis = 1)\n",
    "test_feats1 = pd.concat([test_feats, bow_df_test], axis=1)\n",
    "#test_feats1.reset_index(drop=True, inplace=True)"
   ]
  },
  {
   "cell_type": "code",
   "execution_count": 476,
   "metadata": {},
   "outputs": [
    {
     "data": {
      "text/plain": [
       "0     0\n",
       "1     0\n",
       "2     0\n",
       "3     1\n",
       "4     0\n",
       "5     1\n",
       "6     0\n",
       "7     1\n",
       "8     1\n",
       "9     0\n",
       "10    1\n",
       "11    1\n",
       "12    0\n",
       "13    1\n",
       "14    1\n",
       "15    1\n",
       "16    0\n",
       "17    0\n",
       "18    1\n",
       "19    0\n",
       "Name: Is_Response, dtype: int64"
      ]
     },
     "execution_count": 476,
     "metadata": {},
     "output_type": "execute_result"
    }
   ],
   "source": [
    "train_feats1['Is_Response'][:20]"
   ]
  },
  {
   "cell_type": "code",
   "execution_count": 477,
   "metadata": {},
   "outputs": [
    {
     "data": {
      "text/plain": [
       "38932    NaN\n",
       "38933    NaN\n",
       "38934    NaN\n",
       "38935    NaN\n",
       "38936    NaN\n",
       "38937    NaN\n",
       "38938    NaN\n",
       "38939    NaN\n",
       "38940    NaN\n",
       "38941    NaN\n",
       "38942    NaN\n",
       "38943    NaN\n",
       "38944    NaN\n",
       "38945    NaN\n",
       "38946    NaN\n",
       "38947    NaN\n",
       "38948    NaN\n",
       "38949    NaN\n",
       "38950    NaN\n",
       "38951    NaN\n",
       "Name: Is_Response, dtype: object"
      ]
     },
     "execution_count": 477,
     "metadata": {},
     "output_type": "execute_result"
    }
   ],
   "source": [
    "test_feats1['Is_Response'][:20]"
   ]
  },
  {
   "cell_type": "code",
   "execution_count": 446,
   "metadata": {},
   "outputs": [],
   "source": [
    "#test_feats1.reset_index(drop=True, inplace=True)"
   ]
  },
  {
   "cell_type": "code",
   "execution_count": 478,
   "metadata": {},
   "outputs": [
    {
     "data": {
      "text/plain": [
       "((38932, 362), (29404, 362))"
      ]
     },
     "execution_count": 478,
     "metadata": {},
     "output_type": "execute_result"
    }
   ],
   "source": [
    "train_feats1.shape,test_feats1.shape"
   ]
  },
  {
   "cell_type": "code",
   "execution_count": 479,
   "metadata": {},
   "outputs": [
    {
     "data": {
      "text/html": [
       "<div>\n",
       "<style scoped>\n",
       "    .dataframe tbody tr th:only-of-type {\n",
       "        vertical-align: middle;\n",
       "    }\n",
       "\n",
       "    .dataframe tbody tr th {\n",
       "        vertical-align: top;\n",
       "    }\n",
       "\n",
       "    .dataframe thead th {\n",
       "        text-align: right;\n",
       "    }\n",
       "</style>\n",
       "<table border=\"1\" class=\"dataframe\">\n",
       "  <thead>\n",
       "    <tr style=\"text-align: right;\">\n",
       "      <th></th>\n",
       "      <th>Browser_Used_Edge</th>\n",
       "      <th>Browser_Used_Google_Chrome</th>\n",
       "      <th>Browser_Used_Internet_Explorer</th>\n",
       "      <th>Browser_Used_Mozilla_FireFox</th>\n",
       "      <th>Browser_Used_Opera</th>\n",
       "      <th>Browser_Used_Safari</th>\n",
       "      <th>Browser_Used_nan</th>\n",
       "      <th>Device_Used_Desktop</th>\n",
       "      <th>Device_Used_Mobile</th>\n",
       "      <th>Device_Used_Tablet</th>\n",
       "      <th>...</th>\n",
       "      <th>col340</th>\n",
       "      <th>col341</th>\n",
       "      <th>col342</th>\n",
       "      <th>col343</th>\n",
       "      <th>col344</th>\n",
       "      <th>col345</th>\n",
       "      <th>col346</th>\n",
       "      <th>col347</th>\n",
       "      <th>col348</th>\n",
       "      <th>col349</th>\n",
       "    </tr>\n",
       "  </thead>\n",
       "  <tbody>\n",
       "    <tr>\n",
       "      <th>38932</th>\n",
       "      <td>0</td>\n",
       "      <td>0</td>\n",
       "      <td>0</td>\n",
       "      <td>1</td>\n",
       "      <td>0</td>\n",
       "      <td>0</td>\n",
       "      <td>0</td>\n",
       "      <td>0</td>\n",
       "      <td>1</td>\n",
       "      <td>0</td>\n",
       "      <td>...</td>\n",
       "      <td>0</td>\n",
       "      <td>0</td>\n",
       "      <td>0</td>\n",
       "      <td>0</td>\n",
       "      <td>0</td>\n",
       "      <td>0</td>\n",
       "      <td>0</td>\n",
       "      <td>0</td>\n",
       "      <td>0</td>\n",
       "      <td>0</td>\n",
       "    </tr>\n",
       "    <tr>\n",
       "      <th>38933</th>\n",
       "      <td>0</td>\n",
       "      <td>0</td>\n",
       "      <td>1</td>\n",
       "      <td>0</td>\n",
       "      <td>0</td>\n",
       "      <td>0</td>\n",
       "      <td>0</td>\n",
       "      <td>1</td>\n",
       "      <td>0</td>\n",
       "      <td>0</td>\n",
       "      <td>...</td>\n",
       "      <td>0</td>\n",
       "      <td>0</td>\n",
       "      <td>0</td>\n",
       "      <td>0</td>\n",
       "      <td>0</td>\n",
       "      <td>0</td>\n",
       "      <td>0</td>\n",
       "      <td>0</td>\n",
       "      <td>0</td>\n",
       "      <td>0</td>\n",
       "    </tr>\n",
       "    <tr>\n",
       "      <th>38934</th>\n",
       "      <td>0</td>\n",
       "      <td>0</td>\n",
       "      <td>1</td>\n",
       "      <td>0</td>\n",
       "      <td>0</td>\n",
       "      <td>0</td>\n",
       "      <td>0</td>\n",
       "      <td>0</td>\n",
       "      <td>0</td>\n",
       "      <td>1</td>\n",
       "      <td>...</td>\n",
       "      <td>1</td>\n",
       "      <td>0</td>\n",
       "      <td>0</td>\n",
       "      <td>0</td>\n",
       "      <td>0</td>\n",
       "      <td>0</td>\n",
       "      <td>0</td>\n",
       "      <td>0</td>\n",
       "      <td>0</td>\n",
       "      <td>0</td>\n",
       "    </tr>\n",
       "    <tr>\n",
       "      <th>38935</th>\n",
       "      <td>1</td>\n",
       "      <td>0</td>\n",
       "      <td>0</td>\n",
       "      <td>0</td>\n",
       "      <td>0</td>\n",
       "      <td>0</td>\n",
       "      <td>0</td>\n",
       "      <td>0</td>\n",
       "      <td>1</td>\n",
       "      <td>0</td>\n",
       "      <td>...</td>\n",
       "      <td>0</td>\n",
       "      <td>0</td>\n",
       "      <td>0</td>\n",
       "      <td>0</td>\n",
       "      <td>1</td>\n",
       "      <td>0</td>\n",
       "      <td>3</td>\n",
       "      <td>0</td>\n",
       "      <td>0</td>\n",
       "      <td>0</td>\n",
       "    </tr>\n",
       "    <tr>\n",
       "      <th>38936</th>\n",
       "      <td>0</td>\n",
       "      <td>0</td>\n",
       "      <td>0</td>\n",
       "      <td>1</td>\n",
       "      <td>0</td>\n",
       "      <td>0</td>\n",
       "      <td>0</td>\n",
       "      <td>0</td>\n",
       "      <td>1</td>\n",
       "      <td>0</td>\n",
       "      <td>...</td>\n",
       "      <td>0</td>\n",
       "      <td>0</td>\n",
       "      <td>0</td>\n",
       "      <td>2</td>\n",
       "      <td>0</td>\n",
       "      <td>0</td>\n",
       "      <td>0</td>\n",
       "      <td>0</td>\n",
       "      <td>0</td>\n",
       "      <td>0</td>\n",
       "    </tr>\n",
       "  </tbody>\n",
       "</table>\n",
       "<p>5 rows × 362 columns</p>\n",
       "</div>"
      ],
      "text/plain": [
       "       Browser_Used_Edge  Browser_Used_Google_Chrome  \\\n",
       "38932                  0                           0   \n",
       "38933                  0                           0   \n",
       "38934                  0                           0   \n",
       "38935                  1                           0   \n",
       "38936                  0                           0   \n",
       "\n",
       "       Browser_Used_Internet_Explorer  Browser_Used_Mozilla_FireFox  \\\n",
       "38932                               0                             1   \n",
       "38933                               1                             0   \n",
       "38934                               1                             0   \n",
       "38935                               0                             0   \n",
       "38936                               0                             1   \n",
       "\n",
       "       Browser_Used_Opera  Browser_Used_Safari  Browser_Used_nan  \\\n",
       "38932                   0                    0                 0   \n",
       "38933                   0                    0                 0   \n",
       "38934                   0                    0                 0   \n",
       "38935                   0                    0                 0   \n",
       "38936                   0                    0                 0   \n",
       "\n",
       "       Device_Used_Desktop  Device_Used_Mobile  Device_Used_Tablet   ...    \\\n",
       "38932                    0                   1                   0   ...     \n",
       "38933                    1                   0                   0   ...     \n",
       "38934                    0                   0                   1   ...     \n",
       "38935                    0                   1                   0   ...     \n",
       "38936                    0                   1                   0   ...     \n",
       "\n",
       "       col340 col341  col342  col343  col344  col345  col346  col347  col348  \\\n",
       "38932       0      0       0       0       0       0       0       0       0   \n",
       "38933       0      0       0       0       0       0       0       0       0   \n",
       "38934       1      0       0       0       0       0       0       0       0   \n",
       "38935       0      0       0       0       1       0       3       0       0   \n",
       "38936       0      0       0       2       0       0       0       0       0   \n",
       "\n",
       "       col349  \n",
       "38932       0  \n",
       "38933       0  \n",
       "38934       0  \n",
       "38935       0  \n",
       "38936       0  \n",
       "\n",
       "[5 rows x 362 columns]"
      ]
     },
     "execution_count": 479,
     "metadata": {},
     "output_type": "execute_result"
    }
   ],
   "source": [
    "test_feats1.head()"
   ]
  },
  {
   "cell_type": "code",
   "execution_count": 480,
   "metadata": {},
   "outputs": [],
   "source": [
    "#X=train_feats1.drop(['Is_Response'],axis=1,inplace=True)\n",
    "y=train_feats1['Is_Response']"
   ]
  },
  {
   "cell_type": "code",
   "execution_count": 481,
   "metadata": {},
   "outputs": [],
   "source": [
    "train_feats1.drop(['Is_Response'],axis=1,inplace=True)"
   ]
  },
  {
   "cell_type": "code",
   "execution_count": 485,
   "metadata": {},
   "outputs": [],
   "source": [
    "from sklearn.model_selection import train_test_split\n",
    "X_train, X_test, y_train, y_test = train_test_split(train_feats1, y, test_size=0.4, random_state=4)"
   ]
  },
  {
   "cell_type": "code",
   "execution_count": 484,
   "metadata": {},
   "outputs": [
    {
     "name": "stdout",
     "output_type": "stream",
     "text": [
      "0.7619690455235971\n"
     ]
    }
   ],
   "source": [
    "mod1 = GaussianNB()\n",
    "print(cross_val_score(mod1, train_feats1,y, cv=10, scoring='accuracy').mean())"
   ]
  },
  {
   "cell_type": "code",
   "execution_count": null,
   "metadata": {},
   "outputs": [],
   "source": [
    "y_pred=m.predict(X_test)"
   ]
  },
  {
   "cell_type": "code",
   "execution_count": 486,
   "metadata": {},
   "outputs": [
    {
     "data": {
      "text/plain": [
       "GaussianNB(priors=None)"
      ]
     },
     "execution_count": 486,
     "metadata": {},
     "output_type": "execute_result"
    }
   ],
   "source": [
    "clf1 = GaussianNB()\n",
    "clf1.fit(X_train,y_train)"
   ]
  },
  {
   "cell_type": "code",
   "execution_count": 488,
   "metadata": {},
   "outputs": [],
   "source": [
    "y_pred=clf1.predict(X_test)"
   ]
  },
  {
   "cell_type": "code",
   "execution_count": 490,
   "metadata": {},
   "outputs": [
    {
     "name": "stdout",
     "output_type": "stream",
     "text": [
      "[1 0 0 ... 1 1 1]\n",
      "0.758042766326334\n"
     ]
    }
   ],
   "source": [
    "print(y_pred)\n",
    "print(metrics.accuracy_score(y_test, y_pred))"
   ]
  },
  {
   "cell_type": "code",
   "execution_count": 492,
   "metadata": {},
   "outputs": [
    {
     "name": "stdout",
     "output_type": "stream",
     "text": [
      "True: 34408    0\n",
      "23154    1\n",
      "27772    0\n",
      "22107    1\n",
      "26000    0\n",
      "12848    1\n",
      "5256     1\n",
      "29486    1\n",
      "29247    0\n",
      "4963     1\n",
      "Name: Is_Response, dtype: int64\n",
      "Pred: [1 0 0 1 1 1 1 1 0 1]\n"
     ]
    }
   ],
   "source": [
    "print('True:',y_test[0:10])\n",
    "print('Pred:',y_pred[0:10])"
   ]
  },
  {
   "cell_type": "code",
   "execution_count": 493,
   "metadata": {},
   "outputs": [
    {
     "name": "stdout",
     "output_type": "stream",
     "text": [
      "[[2682 2342]\n",
      " [1426 9123]]\n"
     ]
    }
   ],
   "source": [
    "print(metrics.confusion_matrix(y_test, y_pred))"
   ]
  },
  {
   "cell_type": "code",
   "execution_count": 494,
   "metadata": {},
   "outputs": [
    {
     "name": "stdout",
     "output_type": "stream",
     "text": [
      "Accuracy score:  0.758042766326334\n",
      "Precision score:  0.7957261229829917\n",
      "Recall score:  0.8648213100767845\n",
      "F1 score:  0.8288361951485419\n"
     ]
    }
   ],
   "source": [
    "from sklearn.metrics import accuracy_score, precision_score, recall_score, f1_score\n",
    "print('Accuracy score: ', format(accuracy_score(y_test,y_pred)))\n",
    "print('Precision score: ', format(precision_score(y_test,y_pred)))\n",
    "print('Recall score: ', format(recall_score(y_test,y_pred)))\n",
    "print('F1 score: ', format(f1_score(y_test,y_pred)))"
   ]
  },
  {
   "cell_type": "code",
   "execution_count": 495,
   "metadata": {},
   "outputs": [
    {
     "data": {
      "text/plain": [
       "(29404, 362)"
      ]
     },
     "execution_count": 495,
     "metadata": {},
     "output_type": "execute_result"
    }
   ],
   "source": [
    "test_feats1.shape"
   ]
  },
  {
   "cell_type": "code",
   "execution_count": 497,
   "metadata": {},
   "outputs": [],
   "source": [
    "resp=test_feats1['Is_Response']"
   ]
  },
  {
   "cell_type": "code",
   "execution_count": null,
   "metadata": {},
   "outputs": [],
   "source": [
    "test_feats1.drop(['Is_Response'],axis=1,inplace=True)"
   ]
  },
  {
   "cell_type": "code",
   "execution_count": 502,
   "metadata": {},
   "outputs": [],
   "source": [
    "y_predicted_test=clf1.predict(test_feats1)"
   ]
  },
  {
   "cell_type": "code",
   "execution_count": 505,
   "metadata": {},
   "outputs": [
    {
     "name": "stdout",
     "output_type": "stream",
     "text": [
      "[0 1 0 ... 1 1 1]\n"
     ]
    }
   ],
   "source": [
    "print(y_predicted_test)"
   ]
  },
  {
   "cell_type": "code",
   "execution_count": 506,
   "metadata": {},
   "outputs": [],
   "source": [
    "df_test=pd.read_csv(f'{PATH}test.csv', low_memory=False)"
   ]
  },
  {
   "cell_type": "code",
   "execution_count": 512,
   "metadata": {},
   "outputs": [
    {
     "data": {
      "text/plain": [
       "(29404, 4)"
      ]
     },
     "execution_count": 512,
     "metadata": {},
     "output_type": "execute_result"
    }
   ],
   "source": [
    "df_test.shape"
   ]
  },
  {
   "cell_type": "code",
   "execution_count": 508,
   "metadata": {},
   "outputs": [],
   "source": [
    "\n",
    "sub1 = pd.DataFrame({'User_ID':df_test.User_ID, 'Is_Response':y_predicted_test})"
   ]
  },
  {
   "cell_type": "code",
   "execution_count": 510,
   "metadata": {},
   "outputs": [
    {
     "name": "stdout",
     "output_type": "stream",
     "text": [
      "(29404, 2)\n"
     ]
    }
   ],
   "source": [
    "print(sub1.shape)"
   ]
  },
  {
   "cell_type": "code",
   "execution_count": 509,
   "metadata": {},
   "outputs": [
    {
     "name": "stdout",
     "output_type": "stream",
     "text": [
      "       Is_Response   User_ID\n",
      "0                0   id80132\n",
      "1                1   id80133\n",
      "2                0   id80134\n",
      "3                0   id80135\n",
      "4                1   id80136\n",
      "5                1   id80137\n",
      "6                1   id80138\n",
      "7                0   id80139\n",
      "8                1   id80140\n",
      "9                1   id80141\n",
      "10               1   id80142\n",
      "11               1   id80143\n",
      "12               0   id80144\n",
      "13               1   id80145\n",
      "14               1   id80146\n",
      "15               1   id80147\n",
      "16               1   id80148\n",
      "17               1   id80149\n",
      "18               1   id80150\n",
      "19               1   id80151\n",
      "20               1   id80152\n",
      "21               1   id80153\n",
      "22               1   id80154\n",
      "23               1   id80155\n",
      "24               0   id80156\n",
      "25               0   id80157\n",
      "26               1   id80158\n",
      "27               0   id80159\n",
      "28               1   id80160\n",
      "29               0   id80161\n",
      "...            ...       ...\n",
      "29374            1  id109506\n",
      "29375            0  id109507\n",
      "29376            1  id109508\n",
      "29377            1  id109509\n",
      "29378            1  id109510\n",
      "29379            1  id109511\n",
      "29380            1  id109512\n",
      "29381            0  id109513\n",
      "29382            0  id109514\n",
      "29383            1  id109515\n",
      "29384            1  id109516\n",
      "29385            0  id109517\n",
      "29386            1  id109518\n",
      "29387            1  id109519\n",
      "29388            1  id109520\n",
      "29389            1  id109521\n",
      "29390            0  id109522\n",
      "29391            0  id109523\n",
      "29392            1  id109524\n",
      "29393            1  id109525\n",
      "29394            1  id109526\n",
      "29395            1  id109527\n",
      "29396            1  id109528\n",
      "29397            1  id109529\n",
      "29398            1  id109530\n",
      "29399            1  id109531\n",
      "29400            0  id109532\n",
      "29401            1  id109533\n",
      "29402            1  id109534\n",
      "29403            1  id109535\n",
      "\n",
      "[29404 rows x 2 columns]\n"
     ]
    }
   ],
   "source": [
    "print(sub1)"
   ]
  },
  {
   "cell_type": "code",
   "execution_count": 513,
   "metadata": {},
   "outputs": [],
   "source": [
    "def labels(x):\n",
    "    if x == 1:\n",
    "        return \"happy\"\n",
    "    return \"not_happy\""
   ]
  },
  {
   "cell_type": "code",
   "execution_count": 514,
   "metadata": {},
   "outputs": [],
   "source": [
    "sub1['Is_Response'] = sub1['Is_Response'].map(lambda x: labels(x))"
   ]
  },
  {
   "cell_type": "code",
   "execution_count": 516,
   "metadata": {},
   "outputs": [
    {
     "name": "stdout",
     "output_type": "stream",
     "text": [
      "  Is_Response  User_ID\n",
      "0   not_happy  id80132\n",
      "1       happy  id80133\n",
      "2   not_happy  id80134\n",
      "3   not_happy  id80135\n",
      "4       happy  id80136\n",
      "5       happy  id80137\n",
      "6       happy  id80138\n",
      "7   not_happy  id80139\n",
      "8       happy  id80140\n",
      "9       happy  id80141\n"
     ]
    }
   ],
   "source": [
    "print(sub1.head(10))"
   ]
  },
  {
   "cell_type": "code",
   "execution_count": null,
   "metadata": {},
   "outputs": [],
   "source": []
  },
  {
   "cell_type": "code",
   "execution_count": null,
   "metadata": {},
   "outputs": [],
   "source": []
  },
  {
   "cell_type": "code",
   "execution_count": null,
   "metadata": {},
   "outputs": [],
   "source": []
  },
  {
   "cell_type": "code",
   "execution_count": null,
   "metadata": {},
   "outputs": [],
   "source": []
  },
  {
   "cell_type": "code",
   "execution_count": null,
   "metadata": {},
   "outputs": [],
   "source": []
  },
  {
   "cell_type": "code",
   "execution_count": null,
   "metadata": {},
   "outputs": [],
   "source": []
  },
  {
   "cell_type": "code",
   "execution_count": null,
   "metadata": {},
   "outputs": [],
   "source": []
  },
  {
   "cell_type": "code",
   "execution_count": null,
   "metadata": {},
   "outputs": [],
   "source": []
  },
  {
   "cell_type": "code",
   "execution_count": null,
   "metadata": {},
   "outputs": [],
   "source": []
  }
 ],
 "metadata": {
  "kernelspec": {
   "display_name": "Python 3",
   "language": "python",
   "name": "python3"
  },
  "language_info": {
   "codemirror_mode": {
    "name": "ipython",
    "version": 3
   },
   "file_extension": ".py",
   "mimetype": "text/x-python",
   "name": "python",
   "nbconvert_exporter": "python",
   "pygments_lexer": "ipython3",
   "version": "3.6.3"
  }
 },
 "nbformat": 4,
 "nbformat_minor": 2
}
